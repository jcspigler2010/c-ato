{
 "cells": [
  {
   "cell_type": "code",
   "execution_count": 1,
   "metadata": {},
   "outputs": [],
   "source": [
    "# POAM Template  column headers\n",
    "control_vulnerability_description_map = \"B\"\n",
    "security_control_number_map = \"C\"\n",
    "office_org_map = \"D\"\n",
    "security_checks_map = \"E\"\n",
    "resources_required_map = \"F\" \n",
    "scheduled_completion_date_map = \"G\"\n",
    "milestone_with_completion_dates_map = \"H\"\n",
    "milestone_changes_map = \"I\"\n",
    "source_identifying_vulnerability_map = \"J\"\n",
    "status_map = \"K\"\n",
    "comments_map = \"L\"\n",
    "raw_severity_map = \"M\"\n",
    "devices_affected_map = \"N\"\n",
    "mitigations_inhouse_map = \"O\" \n",
    "predisposing_conditions_map = \"P\"\n",
    "severity_map = \"Q\"\n",
    "relevance_of_threat_map = \"R\"\n",
    "threat_description_map = \"S\"\n",
    "likelihood_map = \"T\"\n",
    "impact_map = \"U\"\n",
    "impact_description_map = \"V\"\n",
    "residual_risk_level_map = \"W\"\n",
    "recommendations_map = \"X\"\n",
    "resulting_residual_risk_after_proposed_mitigations_map = \"Y\""
   ]
  },
  {
   "cell_type": "code",
   "execution_count": null,
   "metadata": {},
   "outputs": [],
   "source": []
  }
 ],
 "metadata": {
  "kernelspec": {
   "display_name": "Python 3",
   "language": "python",
   "name": "python3"
  },
  "language_info": {
   "codemirror_mode": {
    "name": "ipython",
    "version": 3
   },
   "file_extension": ".py",
   "mimetype": "text/x-python",
   "name": "python",
   "nbconvert_exporter": "python",
   "pygments_lexer": "ipython3",
   "version": "3.7.4"
  }
 },
 "nbformat": 4,
 "nbformat_minor": 2
}
