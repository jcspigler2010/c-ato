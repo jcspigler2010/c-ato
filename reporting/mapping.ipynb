{
 "cells": [
  {
   "cell_type": "code",
   "execution_count": null,
   "metadata": {},
   "outputs": [],
   "source": [
    "# POAM Template  column headers\n",
    "control_vulnerability_description = 2\n",
    "security_control_number = 3\n",
    "office_org = 4\n",
    "security_checks = 5\n",
    "resources_required = 6 \n",
    "scheduled_completion_date = 7\n",
    "milestone_with_completion_dates = 8\n",
    "milestone_changes = 9\n",
    "source_identifying_vulnerability = 10\n",
    "status = 11\n",
    "comments = 12\n",
    "raw_severity = 13\n",
    "devices_affected = 14\n",
    "mitigations_inhouse = 15 \n",
    "predisposing_conditions = 16\n",
    "severity = 17\n",
    "relevance_of_threat = 18\n",
    "threat_description = 19\n",
    "likelihood = 20\n",
    "impact = 21\n",
    "impact_description = 22\n",
    "residual_risk_level = 23\n",
    "recommendations = 24\n",
    "resulting_residual_risk_after_proposed_mitigations = 25"
   ]
  }
 ],
 "metadata": {
  "kernelspec": {
   "display_name": "Python 3",
   "language": "python",
   "name": "python3"
  },
  "language_info": {
   "codemirror_mode": {
    "name": "ipython",
    "version": 3
   },
   "file_extension": ".py",
   "mimetype": "text/x-python",
   "name": "python",
   "nbconvert_exporter": "python",
   "pygments_lexer": "ipython3",
   "version": "3.7.4"
  }
 },
 "nbformat": 4,
 "nbformat_minor": 2
}
