{
 "cells": [
  {
   "cell_type": "code",
   "execution_count": 3,
   "metadata": {},
   "outputs": [],
   "source": [
    "import datetime\n",
    "from dataclasses import dataclass\n",
    "\n",
    "@dataclass\n",
    "class PoamHeaders:\n",
    "  control_vulnerability_description: str\n",
    "  security_control_number: str\n",
    "  office_org: str\n",
    "  security_checks: str\n",
    "  resources_required: str\n",
    "  scheduled_completion_date: str\n",
    "  milestone_with_completion_dates: str\n",
    "  milestone_changes: str\n",
    "  source_identifying_vulnerability: str\n",
    "  status: str\n",
    "  comments: str\n",
    "  raw_severity: str\n",
    "  devices_affected: str\n",
    "  mitigations_inhouse: str\n",
    "  predisposing_conditions: str\n",
    "  severity: str\n",
    "  relevance_of_threat: str\n",
    "  threat_description: str\n",
    "  likelihood: str\n",
    "  impact: str\n",
    "  impact_description: str\n",
    "  residual_risk_level: str\n",
    "  recommendations: str\n",
    "  resulting_residual_risk_after_proposed_mitigations: str\n",
    "\n",
    "\n"
   ]
  },
  {
   "cell_type": "code",
   "execution_count": null,
   "metadata": {},
   "outputs": [],
   "source": []
  }
 ],
 "metadata": {
  "kernelspec": {
   "display_name": "Python 3",
   "language": "python",
   "name": "python3"
  },
  "language_info": {
   "codemirror_mode": {
    "name": "ipython",
    "version": 3
   },
   "file_extension": ".py",
   "mimetype": "text/x-python",
   "name": "python",
   "nbconvert_exporter": "python",
   "pygments_lexer": "ipython3",
   "version": "3.7.4"
  }
 },
 "nbformat": 4,
 "nbformat_minor": 2
}
