{
 "cells": [
  {
   "cell_type": "code",
   "execution_count": 2,
   "metadata": {},
   "outputs": [],
   "source": [
    "#!/usr/bin/env python\n",
    "import time\n",
    "from datetime import datetime\n",
    "import sys\n",
    "import getpass\n",
    "import argparse\n",
    "import json\n",
    "import os\n",
    "import requests\n",
    "from requests.auth import HTTPBasicAuth\n",
    "from jinja2 import Template\n",
    "import urllib3\n",
    "from openpyxl import load_workbook\n",
    "from openpyxl import Workbook\n",
    "from openpyxl.worksheet.datavalidation import DataValidation\n",
    "import json\n",
    "from  datetime  import date\n",
    "from mapping import  control_vulnerability_description_map, security_control_number_map, office_org_map, security_checks_map, \\\n",
    "resources_required_map, \\\n",
    "scheduled_completion_date_map, \\\n",
    "milestone_with_completion_dates_map, \\\n",
    "milestone_changes_map, \\\n",
    "source_identifying_vulnerability_map, \\\n",
    "status_map, \\\n",
    "comments_map, \\\n",
    "raw_severity_map, \\\n",
    "devices_affected_map, \\\n",
    "mitigations_inhouse_map, \\\n",
    "predisposing_conditions_map, \\\n",
    "severity_map, \\\n",
    "relevance_of_threat_map, \\\n",
    "threat_description_map, \\\n",
    "likelihood_map, \\\n",
    "impact_map, \\\n",
    "impact_description_map, \\\n",
    "residual_risk_level_map, \\\n",
    "recommendations_map, \\\n",
    "resulting_residual_risk_after_proposed_mitigations_map \\\n",
    "\n"
   ]
  },
  {
   "cell_type": "code",
   "execution_count": 3,
   "metadata": {},
   "outputs": [],
   "source": [
    "class imgRequestError(Exception):\n",
    "    pass"
   ]
  },
  {
   "cell_type": "code",
   "execution_count": 4,
   "metadata": {},
   "outputs": [],
   "source": [
    "def import_poam_template_xlsx(file):\n",
    "    \n",
    "    workbook = load_workbook(filename=file)\n",
    "    return workbook\n"
   ]
  },
  {
   "cell_type": "code",
   "execution_count": 86,
   "metadata": {},
   "outputs": [],
   "source": [
    "def create_label_dictionary(image):\n",
    "    \n",
    "    try:\n",
    "        label_dict = {}\n",
    "        for label in image['labels']:\n",
    "\n",
    "            label_dict.update({label.split(':')[0]:label.split(':')[1]})\n",
    "        return label_dict\n",
    "    except:\n",
    "        pass"
   ]
  },
  {
   "cell_type": "code",
   "execution_count": 6,
   "metadata": {},
   "outputs": [],
   "source": [
    "def control_vulnerability_description(vulnerability):\n",
    "    \n",
    "    description = vulnerability['description']\n",
    "    return  description"
   ]
  },
  {
   "cell_type": "code",
   "execution_count": 7,
   "metadata": {},
   "outputs": [],
   "source": [
    "def security_control_number():\n",
    "    pass\n"
   ]
  },
  {
   "cell_type": "code",
   "execution_count": 8,
   "metadata": {},
   "outputs": [],
   "source": [
    "\n",
    "def return_label(label_dict,target_label):\n",
    "    \n",
    "    try:\n",
    "        returned_label = label_dict[target_label]\n",
    "        return returned_label\n",
    "    except:\n",
    "        pass\n"
   ]
  },
  {
   "cell_type": "code",
   "execution_count": 9,
   "metadata": {},
   "outputs": [],
   "source": [
    "def security_checks(vulnerability):\n",
    "    \n",
    "    security_check = vulnerability['cve']\n",
    "    return security_check\n",
    "    \n",
    "    pass"
   ]
  },
  {
   "cell_type": "code",
   "execution_count": 10,
   "metadata": {},
   "outputs": [],
   "source": [
    "def resources_required():\n",
    "    \n",
    "    return \"eMASS populated\"\n",
    "\n",
    "    pass"
   ]
  },
  {
   "cell_type": "code",
   "execution_count": 11,
   "metadata": {},
   "outputs": [],
   "source": [
    "def return_cve_tags(vulnerability,cve_tag):\n",
    "    cve_tag = parse_vulnTagInfos(vulnerability,cve_tag)\n",
    "    return cve_tag"
   ]
  },
  {
   "cell_type": "code",
   "execution_count": 12,
   "metadata": {},
   "outputs": [],
   "source": [
    "def scheduled_completion_date(vulnerability):\n",
    "    schedule_completion_date = parse_vulnTagInfos(vulnerability,\"Scheduled Completion Date\")\n",
    "    return schedule_completion_date"
   ]
  },
  {
   "cell_type": "code",
   "execution_count": 13,
   "metadata": {},
   "outputs": [],
   "source": [
    "def milestone_with_completion_dates(vulnerability):\n",
    "    schedule_completion_date = parse_vulnTagInfos(vulnerability,\"Milestone with Completion Dates\")\n",
    "    return schedule_completion_date"
   ]
  },
  {
   "cell_type": "code",
   "execution_count": 14,
   "metadata": {},
   "outputs": [],
   "source": [
    "def milestone_changes(vulnerability):\n",
    "    milestone_changes = parse_vulnTagInfos(vulnerability,\"Milestone Changes\")\n",
    "    return milestone_changes"
   ]
  },
  {
   "cell_type": "code",
   "execution_count": 15,
   "metadata": {},
   "outputs": [],
   "source": [
    "def source_identifying_vulnerability():\n",
    "    \n",
    "    return \"Scanned by Prisma Cloud Compute\""
   ]
  },
  {
   "cell_type": "code",
   "execution_count": 16,
   "metadata": {},
   "outputs": [],
   "source": [
    "def status(vulnerability):\n",
    "    status = parse_vulnTagInfos(vulnerability,\"Status\")\n",
    "    return status"
   ]
  },
  {
   "cell_type": "code",
   "execution_count": 17,
   "metadata": {},
   "outputs": [],
   "source": [
    "def comments(vulnerability):\n",
    "    comments = parse_vulnTagInfos(vulnerability,\"Comments\")\n",
    "    return comments"
   ]
  },
  {
   "cell_type": "code",
   "execution_count": 18,
   "metadata": {},
   "outputs": [],
   "source": [
    "def raw_severity(vulnerability):\n",
    "    \n",
    "    raw_severity = vulnerability['severity']\n",
    "    return raw_severity"
   ]
  },
  {
   "cell_type": "code",
   "execution_count": 19,
   "metadata": {},
   "outputs": [],
   "source": [
    "def devices_affected(image):\n",
    "    devices_affected = ''\n",
    "    for tag in image['tags']:\n",
    "        devices_affected+=tag['registry']+\"/\"+tag['repo']+\":\"+tag['tag']\n",
    "    return devices_affected "
   ]
  },
  {
   "cell_type": "code",
   "execution_count": 20,
   "metadata": {},
   "outputs": [],
   "source": [
    "def mitigations_inhouse():\n",
    "    pass"
   ]
  },
  {
   "cell_type": "code",
   "execution_count": 21,
   "metadata": {},
   "outputs": [],
   "source": [
    "def predisposing_conditions():\n",
    "    pass"
   ]
  },
  {
   "cell_type": "code",
   "execution_count": 22,
   "metadata": {},
   "outputs": [],
   "source": [
    "def severity():\n",
    "    \n",
    "    return \"Moderate\""
   ]
  },
  {
   "cell_type": "code",
   "execution_count": 23,
   "metadata": {},
   "outputs": [],
   "source": [
    "def relevance_of_threat():\n",
    "    pass"
   ]
  },
  {
   "cell_type": "code",
   "execution_count": 24,
   "metadata": {},
   "outputs": [],
   "source": [
    "def threat_description():\n",
    "    pass"
   ]
  },
  {
   "cell_type": "code",
   "execution_count": 25,
   "metadata": {},
   "outputs": [],
   "source": [
    "def likelihood():\n",
    "    pass"
   ]
  },
  {
   "cell_type": "code",
   "execution_count": 26,
   "metadata": {},
   "outputs": [],
   "source": [
    "def impact():\n",
    "    pass"
   ]
  },
  {
   "cell_type": "code",
   "execution_count": 27,
   "metadata": {},
   "outputs": [],
   "source": [
    "def impact_description():\n",
    "    pass"
   ]
  },
  {
   "cell_type": "code",
   "execution_count": 28,
   "metadata": {},
   "outputs": [],
   "source": [
    "def residual_risk_level():\n",
    "    pass"
   ]
  },
  {
   "cell_type": "code",
   "execution_count": 29,
   "metadata": {},
   "outputs": [],
   "source": [
    "def recommendations(vulnerability):\n",
    "    recommendations = vulnerability['link']\n",
    "    return recommendations"
   ]
  },
  {
   "cell_type": "code",
   "execution_count": 30,
   "metadata": {},
   "outputs": [],
   "source": [
    "def resulting_residual_risk_after_proposed_mitigations():\n",
    "    pass"
   ]
  },
  {
   "cell_type": "code",
   "execution_count": 31,
   "metadata": {},
   "outputs": [],
   "source": [
    "def parse_vulnTagInfos(vulnerability,vulnTag):\n",
    "    try:\n",
    "        for vulnTagInfo in vulnerability['vulnTagInfos']:\n",
    "            if vulnTagInfo['name'] == vulnTag:\n",
    "                return vulnTagInfo['comment']\n",
    "    except:\n",
    "            pass"
   ]
  },
  {
   "cell_type": "code",
   "execution_count": 32,
   "metadata": {},
   "outputs": [],
   "source": [
    "def create_excel_drop_down():\n",
    "    dv = DataValidation(type=\"list\", formula1='\"Very Low, Low, Moderate, High, Very High\"')\n",
    "    return dv\n",
    "    "
   ]
  },
  {
   "cell_type": "code",
   "execution_count": 33,
   "metadata": {},
   "outputs": [],
   "source": [
    "def define_cell(column_map,row):\n",
    "    cell = column_map + str(row)\n",
    "    return column_map"
   ]
  },
  {
   "cell_type": "code",
   "execution_count": 89,
   "metadata": {},
   "outputs": [],
   "source": [
    "def populate_poam_template_xlsx(poam,images,exported_by):\n",
    "\n",
    "    row = 8\n",
    "    sheet = poam.active\n",
    "    sheet[\"C2\"] = date.today()\n",
    "    sheet[\"C3\"] = exported_by\n",
    "    \n",
    "    for image in images:\n",
    "        label_dict = create_label_dictionary(image)\n",
    "        \n",
    "        for vulnerability in image['vulnerabilities']:\n",
    "            \n",
    "            sheet[\"C6\"] = return_label(label_dict,'DOD_IT_REG_NO')\n",
    "            sheet[\"C5\"] = return_label(label_dict,'SYSTEM_PROJECT_NAME')\n",
    "            sheet[\"J2\"] = return_label(label_dict,'SYSTEM_TYPE')\n",
    "            sheet[\"J4\"] = return_label(label_dict,'POC_NAME')\n",
    "            sheet[\"J6\"] = return_label(label_dict,'POC_EMAIL')\n",
    "            sheet[\"J5\"] = return_label(label_dict,'POC_EMAIL')\n",
    "            sheet[\"C4\"] = return_label(label_dict,'DOD_COMPONENT')\n",
    "\n",
    "            # office_org\n",
    "            sheet[office_org_map+str(row)] = return_label(label_dict,'OFFICE_ORG')\n",
    "        \n",
    "#             # control_vulnerability_description\n",
    "            sheet[control_vulnerability_description_map+str(row)] = control_vulnerability_description(vulnerability)\n",
    "            \n",
    "#             # scheduled_completion_date\n",
    "            sheet[scheduled_completion_date_map+str(row)] = return_cve_tags(vulnerability,\"Scheduled Completion Date\")\n",
    "\n",
    "#             # security_control_number\n",
    "\n",
    "#             # security_checks\n",
    "            sheet[security_checks_map+str(row)] = security_checks(vulnerability)\n",
    "\n",
    "#             # resources_required\n",
    "            sheet[resources_required_map+str(row)] = resources_required()\n",
    "    \n",
    "#             # milestone_with_completion_dates\n",
    "            sheet[milestone_with_completion_dates_map+str(row)] = return_cve_tags(vulnerability,\"Milestone with Completion Dates\")\n",
    "            \n",
    "#             # milestone_changes\n",
    "            sheet[milestone_changes_map+str(row)] = return_cve_tags(vulnerability,\"Milestone Changes\")\n",
    "            \n",
    "#             # source_identifying_vulnerability\n",
    "            sheet[source_identifying_vulnerability_map+str(row)] = source_identifying_vulnerability()\n",
    "\n",
    "#             # status\n",
    "            sheet[status_map+str(row)] = return_cve_tags(vulnerability,\"Status\")\n",
    "            \n",
    "#             # comments\n",
    "            sheet[comments_map+str(row)] = return_cve_tags(vulnerability,\"Comments\")\n",
    "            \n",
    "#             # raw_severity\n",
    "            sheet[raw_severity_map+str(row)] = raw_severity(vulnerability)\n",
    "            \n",
    "#             # devices_affected\n",
    "            sheet[devices_affected_map+str(row)] = devices_affected(image)\n",
    "            \n",
    "#             # mitigations_inhouse\n",
    "            sheet[mitigations_inhouse_map+str(row)] = return_cve_tags(vulnerability,\"Mitigations in-house\")\n",
    "\n",
    "#             # predisposing_conditions\n",
    "\n",
    "#             # severity\n",
    "#             drop down\n",
    "\n",
    "#             # relevance_of_threat\n",
    "            # drop down\n",
    "\n",
    "#             # threat_description\n",
    "\n",
    "#             # likelihood\n",
    "            # dropdown\n",
    "\n",
    "#             # impact\n",
    "            # dropdown\n",
    "\n",
    "#             # impact_description\n",
    "\n",
    "#             # residual_risk_level\n",
    "            # dropdown\n",
    "\n",
    "\n",
    "#             # recommendations\n",
    "            sheet[recommendations_map+str(row)] = recommendations(vulnerability)\n",
    "\n",
    "#             # resulting_residual_risk_after_proposed_mitigations\n",
    "\n",
    "            row +=1\n",
    "\n",
    "    return poam\n",
    "\n"
   ]
  },
  {
   "cell_type": "code",
   "execution_count": 35,
   "metadata": {},
   "outputs": [],
   "source": [
    "def output_poam_xlsx(poam,app,build):\n",
    "\n",
    "    build = str(build)\n",
    "    today = date.today()\n",
    "    filename = \"POAM-\"+app+\"-build-\"+build+\"-\"+today.isoformat()+\".xlsx\"\n",
    "    print(\"File output:  \"+ filename)\n",
    "    poam.save(filename=filename)"
   ]
  },
  {
   "cell_type": "code",
   "execution_count": 39,
   "metadata": {},
   "outputs": [],
   "source": [
    "def parse_args():\n",
    "    \"\"\"\n",
    "    CLI argument handling\n",
    "    \"\"\"\n",
    "\n",
    "    desc = 'Generate an HTML report of CVEs per image, displaying the data to STDOUT\\n'\n",
    "\n",
    "    epilog = 'The console and user arguments can be supplied using the environment variables TL_CONSOLE and TL_USER.'\n",
    "    epilog += ' The password can be passed using the environment variable TL_PASS.'\n",
    "    epilog += ' The user will be prompted for the password when the TL_PASS variable is not set.'\n",
    "    epilog += ' Environment variables override CLI arguments.'\n",
    "\n",
    "    p = argparse.ArgumentParser(description=desc,epilog=epilog)\n",
    "    p.add_argument('-c','--console',metavar='TL_CONSOLE', help='query the API of this Console')\n",
    "    p.add_argument('-u','--user',metavar='TL_USER',help='Console username')\n",
    "    p.add_argument('-p','--password',metavar='TL_PASS',help='Console user password')\n",
    "    p.add_argument('-d','--debug',help='Provide a debug console dump of HTML report',action='store_true')\n",
    "    p.add_argument('-o','--collection',metavar='TL_COLLECT',help='Prisma cloud compute colllections to filter results')\n",
    "    p.add_argument('-id','--entity_id',metavar='TL_ID',help='Filter collection to specific image or host ID')\n",
    "    p.add_argument('-t','--target',metavar='TL_TARGET',help='Targeted entity type to generate report on (e.g. container image, host, running containers) Options running_container,image,host ')\n",
    "    p.add_argument('-m','--poam_template',metavar='POAM_TEMP',help='specify xlsx POAM template')\n",
    "    p.add_argument('-eu','--export_user',metavar='EXPORT_USER',help='User exporting POAM')\n",
    "    args = p.parse_args()\n",
    "\n",
    "    # Populate args by env vars if they're set\n",
    "    envvar_map = {'TL_USER':'user','TL_CONSOLE':'console','TL_PASS':'password','TL_COLLECT':'collection','TL_ID':'entity_id','TL_TARGET':'target','POAM_TEMP':'poam_template','export_user':'EXPORT_USER'}\n",
    "    for evar in envvar_map.keys():\n",
    "        evar_val = os.environ.get(evar,None)\n",
    "        if evar_val is not None:\n",
    "            setattr(args,envvar_map[evar],evar_val)\n",
    "\n",
    "    arg_errs = []\n",
    "    if len(arg_errs) > 0:\n",
    "        err_msg = 'Missing argument(s): {}'.format(', '.join(arg_errs))\n",
    "        p.error(err_msg)\n",
    "\n",
    "    if getattr(args,'console',None) is None:\n",
    "        args.console = raw_input('Enter console url: ')\n",
    "    else:\n",
    "        arg_errs.append('console (-c,--console)')\n",
    "    if getattr(args,'user',None) is None:\n",
    "        args.user = raw_input('Enter username: ')\n",
    "    else:\n",
    "        arg_errs.append('user (-u,--user)')\n",
    "\n",
    "    if getattr(args,'password',None) is None:\n",
    "        args.password = getpass.getpass('Enter password: ')\n",
    "    else:\n",
    "        arg_errs.append('password (-p, --password)')\n",
    "\n",
    "    if getattr(args,'collection',None) is None:\n",
    "        args.collection = raw_input('')\n",
    "    else:\n",
    "        arg_errs.append('collection (-o, --collection)')\n",
    "\n",
    "    if getattr(args,'entity_id',None) is None:\n",
    "        args.collection = raw_input('')\n",
    "    else:\n",
    "        arg_errs.append('entity_id (-id, --entity_id)')\n",
    "\n",
    "    if getattr(args,'target',None) is None:\n",
    "        args.collection = raw_input('')\n",
    "    else:\n",
    "        arg_errs.append('target (-t, --target)')\n",
    "\n",
    "    if getattr(args,'poam_template',None) is None:\n",
    "        args.collection = raw_input('')\n",
    "    else:\n",
    "        arg_errs.append('poam_template (-m, --poam_template)')\n",
    "        \n",
    "    if getattr(args,'export_user',None) is None:\n",
    "        args.collection = raw_input('Please enter user name who is exporting the POAM: ')\n",
    "    else:\n",
    "        arg_errs.append('export_user (-eu, --export_user)')\n",
    "\n",
    "    return args\n",
    "\n"
   ]
  },
  {
   "cell_type": "code",
   "execution_count": 61,
   "metadata": {},
   "outputs": [],
   "source": [
    "def get_prisma_data_json(console,user,password,collection,target,entity_id):\n",
    "    api_endpt = '/api/v1/'+target+'?id='+entity_id+'&&collections='+collection\n",
    "    print(\"Retrieving data on: \" + api_endpt)\n",
    "    request_url = console + api_endpt\n",
    "    image_req = requests.get(request_url, auth=HTTPBasicAuth(user,password), verify=False)\n",
    "    if image_req.status_code != 200:\n",
    "        # This means something went wrong.\n",
    "        raise imgRequestError('GET /api/v1/'+target+' {} {}'.format(image_req.status_code,image_req.reason))\n",
    "    return image_req.json()"
   ]
  },
  {
   "cell_type": "code",
   "execution_count": 45,
   "metadata": {},
   "outputs": [],
   "source": [
    "def main():\n",
    "    urllib3.disable_warnings()\n",
    "    args = parse_args()\n",
    "\n",
    "    try:\n",
    "        images_json = get_prisma_data_json(args.console,args.user,args.password,args.collection,args.target,args.entity_id,args.export_user)\n",
    "    except imgRequestError as e:\n",
    "        print(\"Error querying API: {}\".format(e))\n",
    "        return 3\n",
    "    \n",
    "        #Import POAM template specified in args\n",
    "    try:\n",
    "        poam = import_poam_template_xlsx(args.poam_template)\n",
    "        sheet = poam.active\n",
    "    except imgReqestError as e:\n",
    "        print(\"Error importing template: {}\".format(e))\n",
    "    \n",
    "    \n",
    "    try:\n",
    "        new_poam = populate_poam_template_xlsx(poam,images_json,args.export_user)\n",
    "    except imgReqestError as e:\n",
    "        print(\"Error creating poam: {}\".format(e))\n",
    "    \n",
    "    try:\n",
    "        output_poam_xlsx(new_poam,\"mysite-ruby\",1)\n",
    "    except imgReqestError as e:\n",
    "        print(\"Error saving poam: {}\".format(e))\n",
    "\n",
    "    return 0"
   ]
  },
  {
   "cell_type": "code",
   "execution_count": 56,
   "metadata": {},
   "outputs": [
    {
     "ename": "TypeError",
     "evalue": "__init__() got an unexpected keyword argument 'metavar'",
     "output_type": "error",
     "traceback": [
      "\u001b[0;31m---------------------------------------------------------------------------\u001b[0m",
      "\u001b[0;31mTypeError\u001b[0m                                 Traceback (most recent call last)",
      "\u001b[0;32m<ipython-input-56-b9e207ab69f3>\u001b[0m in \u001b[0;36m<module>\u001b[0;34m\u001b[0m\n\u001b[1;32m      1\u001b[0m \u001b[0;32mif\u001b[0m \u001b[0m__name__\u001b[0m \u001b[0;34m==\u001b[0m \u001b[0;34m'__main__'\u001b[0m\u001b[0;34m:\u001b[0m\u001b[0;34m\u001b[0m\u001b[0;34m\u001b[0m\u001b[0m\n\u001b[0;32m----> 2\u001b[0;31m     \u001b[0msys\u001b[0m\u001b[0;34m.\u001b[0m\u001b[0mexit\u001b[0m\u001b[0;34m(\u001b[0m\u001b[0mmain\u001b[0m\u001b[0;34m(\u001b[0m\u001b[0;34m)\u001b[0m\u001b[0;34m)\u001b[0m\u001b[0;34m\u001b[0m\u001b[0;34m\u001b[0m\u001b[0m\n\u001b[0m",
      "\u001b[0;32m<ipython-input-55-68e3be0b1502>\u001b[0m in \u001b[0;36mmain\u001b[0;34m()\u001b[0m\n\u001b[1;32m      1\u001b[0m \u001b[0;32mdef\u001b[0m \u001b[0mmain\u001b[0m\u001b[0;34m(\u001b[0m\u001b[0;34m)\u001b[0m\u001b[0;34m:\u001b[0m\u001b[0;34m\u001b[0m\u001b[0;34m\u001b[0m\u001b[0m\n\u001b[1;32m      2\u001b[0m     \u001b[0murllib3\u001b[0m\u001b[0;34m.\u001b[0m\u001b[0mdisable_warnings\u001b[0m\u001b[0;34m(\u001b[0m\u001b[0;34m)\u001b[0m\u001b[0;34m\u001b[0m\u001b[0;34m\u001b[0m\u001b[0m\n\u001b[0;32m----> 3\u001b[0;31m     \u001b[0margs\u001b[0m \u001b[0;34m=\u001b[0m \u001b[0mparse_args\u001b[0m\u001b[0;34m(\u001b[0m\u001b[0;34m)\u001b[0m\u001b[0;34m\u001b[0m\u001b[0;34m\u001b[0m\u001b[0m\n\u001b[0m\u001b[1;32m      4\u001b[0m \u001b[0;34m\u001b[0m\u001b[0m\n\u001b[1;32m      5\u001b[0m     \u001b[0;32mtry\u001b[0m\u001b[0;34m:\u001b[0m\u001b[0;34m\u001b[0m\u001b[0;34m\u001b[0m\u001b[0m\n",
      "\u001b[0;32m<ipython-input-54-0c0ad827e66e>\u001b[0m in \u001b[0;36mparse_args\u001b[0;34m()\u001b[0m\n\u001b[1;32m     16\u001b[0m     \u001b[0mp\u001b[0m\u001b[0;34m.\u001b[0m\u001b[0madd_argument\u001b[0m\u001b[0;34m(\u001b[0m\u001b[0;34m'-p'\u001b[0m\u001b[0;34m,\u001b[0m\u001b[0;34m'--password'\u001b[0m\u001b[0;34m,\u001b[0m\u001b[0mmetavar\u001b[0m\u001b[0;34m=\u001b[0m\u001b[0;34m'TL_PASS'\u001b[0m\u001b[0;34m,\u001b[0m\u001b[0mhelp\u001b[0m\u001b[0;34m=\u001b[0m\u001b[0;34m'Console user password'\u001b[0m\u001b[0;34m)\u001b[0m\u001b[0;34m\u001b[0m\u001b[0;34m\u001b[0m\u001b[0m\n\u001b[1;32m     17\u001b[0m     \u001b[0mp\u001b[0m\u001b[0;34m.\u001b[0m\u001b[0madd_argument\u001b[0m\u001b[0;34m(\u001b[0m\u001b[0;34m'-d'\u001b[0m\u001b[0;34m,\u001b[0m\u001b[0;34m'--debug'\u001b[0m\u001b[0;34m,\u001b[0m\u001b[0mhelp\u001b[0m\u001b[0;34m=\u001b[0m\u001b[0;34m'Provide a debug console dump of HTML report'\u001b[0m\u001b[0;34m,\u001b[0m\u001b[0maction\u001b[0m\u001b[0;34m=\u001b[0m\u001b[0;34m'store_true'\u001b[0m\u001b[0;34m)\u001b[0m\u001b[0;34m\u001b[0m\u001b[0;34m\u001b[0m\u001b[0m\n\u001b[0;32m---> 18\u001b[0;31m     \u001b[0mp\u001b[0m\u001b[0;34m.\u001b[0m\u001b[0madd_argument\u001b[0m\u001b[0;34m(\u001b[0m\u001b[0;34m'-o'\u001b[0m\u001b[0;34m,\u001b[0m\u001b[0;34m'--collection'\u001b[0m\u001b[0;34m,\u001b[0m\u001b[0mmetavar\u001b[0m\u001b[0;34m=\u001b[0m\u001b[0;34m'TL_COLLECT'\u001b[0m\u001b[0;34m,\u001b[0m\u001b[0mhelp\u001b[0m\u001b[0;34m=\u001b[0m\u001b[0;34m'Prisma cloud compute colllections to filter results'\u001b[0m\u001b[0;34m,\u001b[0m\u001b[0maction\u001b[0m\u001b[0;34m=\u001b[0m\u001b[0;34m'store_true'\u001b[0m\u001b[0;34m)\u001b[0m\u001b[0;34m\u001b[0m\u001b[0;34m\u001b[0m\u001b[0m\n\u001b[0m\u001b[1;32m     19\u001b[0m     \u001b[0mp\u001b[0m\u001b[0;34m.\u001b[0m\u001b[0madd_argument\u001b[0m\u001b[0;34m(\u001b[0m\u001b[0;34m'-id'\u001b[0m\u001b[0;34m,\u001b[0m\u001b[0;34m'--entity_id'\u001b[0m\u001b[0;34m,\u001b[0m\u001b[0mmetavar\u001b[0m\u001b[0;34m=\u001b[0m\u001b[0;34m'TL_ID'\u001b[0m\u001b[0;34m,\u001b[0m\u001b[0mhelp\u001b[0m\u001b[0;34m=\u001b[0m\u001b[0;34m'Filter collection to specific image or host ID'\u001b[0m\u001b[0;34m,\u001b[0m\u001b[0maction\u001b[0m\u001b[0;34m=\u001b[0m\u001b[0;34m'store_true'\u001b[0m\u001b[0;34m)\u001b[0m\u001b[0;34m\u001b[0m\u001b[0;34m\u001b[0m\u001b[0m\n\u001b[1;32m     20\u001b[0m     p.add_argument('-t','--target',metavar='TL_TARGET',help='Targeted entity type to generate report on (e.g. container image, host, running containers) Options\\\n",
      "\u001b[0;32m~/opt/anaconda3/lib/python3.7/argparse.py\u001b[0m in \u001b[0;36madd_argument\u001b[0;34m(self, *args, **kwargs)\u001b[0m\n\u001b[1;32m   1351\u001b[0m         \u001b[0;32mif\u001b[0m \u001b[0;32mnot\u001b[0m \u001b[0mcallable\u001b[0m\u001b[0;34m(\u001b[0m\u001b[0maction_class\u001b[0m\u001b[0;34m)\u001b[0m\u001b[0;34m:\u001b[0m\u001b[0;34m\u001b[0m\u001b[0;34m\u001b[0m\u001b[0m\n\u001b[1;32m   1352\u001b[0m             \u001b[0;32mraise\u001b[0m \u001b[0mValueError\u001b[0m\u001b[0;34m(\u001b[0m\u001b[0;34m'unknown action \"%s\"'\u001b[0m \u001b[0;34m%\u001b[0m \u001b[0;34m(\u001b[0m\u001b[0maction_class\u001b[0m\u001b[0;34m,\u001b[0m\u001b[0;34m)\u001b[0m\u001b[0;34m)\u001b[0m\u001b[0;34m\u001b[0m\u001b[0;34m\u001b[0m\u001b[0m\n\u001b[0;32m-> 1353\u001b[0;31m         \u001b[0maction\u001b[0m \u001b[0;34m=\u001b[0m \u001b[0maction_class\u001b[0m\u001b[0;34m(\u001b[0m\u001b[0;34m**\u001b[0m\u001b[0mkwargs\u001b[0m\u001b[0;34m)\u001b[0m\u001b[0;34m\u001b[0m\u001b[0;34m\u001b[0m\u001b[0m\n\u001b[0m\u001b[1;32m   1354\u001b[0m \u001b[0;34m\u001b[0m\u001b[0m\n\u001b[1;32m   1355\u001b[0m         \u001b[0;31m# raise an error if the action type is not callable\u001b[0m\u001b[0;34m\u001b[0m\u001b[0;34m\u001b[0m\u001b[0;34m\u001b[0m\u001b[0m\n",
      "\u001b[0;31mTypeError\u001b[0m: __init__() got an unexpected keyword argument 'metavar'"
     ]
    }
   ],
   "source": [
    "if __name__ == '__main__':\n",
    "    sys.exit(main())\n"
   ]
  }
 ],
 "metadata": {
  "kernelspec": {
   "display_name": "Python 3",
   "language": "python",
   "name": "python3"
  },
  "language_info": {
   "codemirror_mode": {
    "name": "ipython",
    "version": 3
   },
   "file_extension": ".py",
   "mimetype": "text/x-python",
   "name": "python",
   "nbconvert_exporter": "python",
   "pygments_lexer": "ipython3",
   "version": "3.7.4"
  }
 },
 "nbformat": 4,
 "nbformat_minor": 2
}
